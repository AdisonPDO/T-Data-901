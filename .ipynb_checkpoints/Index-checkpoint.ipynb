{
 "cells": [
  {
   "cell_type": "code",
   "execution_count": 9,
   "id": "2fc0164f",
   "metadata": {},
   "outputs": [
    {
     "name": "stderr",
     "output_type": "stream",
     "text": [
      "/var/folders/7m/_y3b95f13bdbg_xvnwp6ryd80000gn/T/ipykernel_41485/1295205204.py:4: DtypeWarning: Columns (6,14) have mixed types. Specify dtype option on import or set low_memory=False.\n",
      "  csv = pd.read_csv('./Liquor_Sales.csv')\n"
     ]
    }
   ],
   "source": [
    "import pandas as pd\n",
    "\n",
    "\n",
    "csv = pd.read_csv('./Liquor_Sales.csv')"
   ]
  },
  {
   "cell_type": "code",
   "execution_count": 14,
   "id": "17c63ef6",
   "metadata": {
    "scrolled": true
   },
   "outputs": [
    {
     "data": {
      "application/vnd.jupyter.widget-view+json": {
       "model_id": "a6a5830a4bef475b9e98fd9367d7c043",
       "version_major": 2,
       "version_minor": 0
      },
      "text/plain": [
       "FloatProgress(value=0.0, layout=Layout(width='auto'), style=ProgressStyle(bar_color='black'))"
      ]
     },
     "metadata": {},
     "output_type": "display_data"
    }
   ],
   "source": [
    "import duckdb as ddb\n",
    "\n",
    "con = ddb.connect(\"my-working-database.db\")\n",
    "con.execute(\"\"\"CREATE TABLE liquor AS (SELECT * FROM read_csv_auto('Liquor_Sales.csv', ALL_VARCHAR=1))\"\"\")\n",
    "con.execute(\"SELECT * FROM liquor\")\n",
    "con.close()"
   ]
  },
  {
   "cell_type": "code",
   "execution_count": null,
   "id": "6714c4fe",
   "metadata": {},
   "outputs": [],
   "source": []
  }
 ],
 "metadata": {
  "kernelspec": {
   "display_name": "Python 3 (ipykernel)",
   "language": "python",
   "name": "python3"
  },
  "language_info": {
   "codemirror_mode": {
    "name": "ipython",
    "version": 3
   },
   "file_extension": ".py",
   "mimetype": "text/x-python",
   "name": "python",
   "nbconvert_exporter": "python",
   "pygments_lexer": "ipython3",
   "version": "3.9.13"
  }
 },
 "nbformat": 4,
 "nbformat_minor": 5
}
